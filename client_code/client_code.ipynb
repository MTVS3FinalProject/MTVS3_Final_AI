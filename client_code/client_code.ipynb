{
 "cells": [
  {
   "cell_type": "markdown",
   "metadata": {},
   "source": [
    "# Byte 형식"
   ]
  },
  {
   "cell_type": "code",
   "execution_count": null,
   "metadata": {},
   "outputs": [],
   "source": [
    "import requests\n",
    "\n",
    "# 서버의 엔드포인트 URL (여기에 ngrok URL을 사용)\n",
    "url = \"https://adapted-charmed-panda.ngrok-free.app/verification\"\n",
    "\n",
    "# 두 이미지 파일 경로\n",
    "image_path1 = \"1.jpg\"\n",
    "image_path2 = \"2.jpg\"\n",
    "\n",
    "# 이미지 파일을 열고 POST 요청으로 서버에 전송\n",
    "with open(image_path1, 'rb') as img1, open(image_path2, 'rb') as img2:\n",
    "    files = {\n",
    "        'file1': img1,\n",
    "        'file2': img2\n",
    "    }\n",
    "\n",
    "    # POST 요청 전송\n",
    "    response = requests.post(url, files=files)\n",
    "\n",
    "    # 서버의 응답 확인\n",
    "    if response.status_code == 200:\n",
    "        print(\"응답 성공!\")\n",
    "        print(\"유사도 결과:\", response.json())\n",
    "    else:\n",
    "        print(\"오류 발생:\", response.status_code, response.json())"
   ]
  },
  {
   "cell_type": "markdown",
   "metadata": {},
   "source": [
    "# URL 형식"
   ]
  },
  {
   "cell_type": "code",
   "execution_count": null,
   "metadata": {},
   "outputs": [],
   "source": [
    "import requests\n",
    "\n",
    "# 서버의 엔드포인트 URL (ngrok URL)\n",
    "url = \"https://adapted-charmed-panda.ngrok-free.app/verification\"\n",
    "\n",
    "# 이미지 URL 두 개\n",
    "image_url1 = \"https://cdn.wedding21.co.kr/news/photo/202409/301782_205810_714.jpg\"\n",
    "image_url2 = \"https://www.nbnnews.co.kr/news/photo/202212/726272_728630_2329.jpg\"\n",
    "\n",
    "# POST 요청으로 URL을 전송\n",
    "data = {\n",
    "    'url1': image_url1,\n",
    "    'url2': image_url2\n",
    "}\n",
    "\n",
    "response = requests.post(url, data=data)\n",
    "\n",
    "# 서버의 응답 확인\n",
    "if response.status_code == 200:\n",
    "    print(\"응답 성공!\")\n",
    "    print(\"유사도 결과:\", response.json())\n",
    "else:\n",
    "    print(\"오류 발생:\", response.status_code, response.json())"
   ]
  },
  {
   "cell_type": "markdown",
   "metadata": {},
   "source": [
    "# 실제 테스트"
   ]
  },
  {
   "cell_type": "code",
   "execution_count": null,
   "metadata": {},
   "outputs": [],
   "source": [
    "import requests\n",
    "\n",
    "# 서버의 엔드포인트 URL (ngrok URL 사용)\n",
    "url = \"https://adapted-charmed-panda.ngrok-free.app/verification\"\n",
    "\n",
    "# 두 이미지의 URL을 JSON 형식으로 전송\n",
    "calculateFaceRequestDTO = {\n",
    "    \"originImg\": \"https://cdn.wedding21.co.kr/news/photo/202409/301782_205810_714.jpg\",\n",
    "    \"currentImg\": \"https://www.nbnnews.co.kr/news/photo/202212/726272_728630_2329.jpg\" \n",
    "}\n",
    "\n",
    "# http://www.dizzotv.com/site/data/img_dir/2022/06/29/2022062980024_0.jpg\n",
    "# https://thumbnews.nateimg.co.kr/view610///news.nateimg.co.kr/orgImg/tr/2023/06/21/81ff607a-3f93-4841-9b27-44e0e5cb4f10.jpg\n",
    "\n",
    "\n",
    "# POST 요청으로 서버에 JSON 데이터를 전송\n",
    "response = requests.post(url, json=calculateFaceRequestDTO)\n",
    "\n",
    "# 서버의 응답 확인\n",
    "if response.status_code == 200:\n",
    "    print(\"응답 성공!\")\n",
    "    print(\"유사도 결과:\", response.json())\n",
    "else:\n",
    "    print(\"오류 발생:\", response.status_code, response.json())\n"
   ]
  }
 ],
 "metadata": {
  "kernelspec": {
   "display_name": "final_project",
   "language": "python",
   "name": "python3"
  },
  "language_info": {
   "name": "python",
   "version": "3.10.15"
  }
 },
 "nbformat": 4,
 "nbformat_minor": 2
}
